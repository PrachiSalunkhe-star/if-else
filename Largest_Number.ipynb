{
 "cells": [
  {
   "cell_type": "markdown",
   "id": "7fe46b2f",
   "metadata": {},
   "source": [
    "# Largest Number "
   ]
  },
  {
   "cell_type": "code",
   "execution_count": 6,
   "id": "cca04c48",
   "metadata": {},
   "outputs": [],
   "source": [
    "# Variable Declaration"
   ]
  },
  {
   "cell_type": "code",
   "execution_count": 8,
   "id": "6c030994",
   "metadata": {},
   "outputs": [
    {
     "name": "stdout",
     "output_type": "stream",
     "text": [
      "Enter First Number:34\n",
      "Enter Second Nuber:89\n"
     ]
    }
   ],
   "source": [
    "a= int(input(\"Enter First Number:\"))  # Get User Input From User For First Number\n",
    "b= int(input(\"Enter Second Nuber:\"))  # Get User Input From User For Second Number"
   ]
  },
  {
   "cell_type": "code",
   "execution_count": 9,
   "id": "0ad266a8",
   "metadata": {},
   "outputs": [],
   "source": [
    "# Apply if-else condition"
   ]
  },
  {
   "cell_type": "code",
   "execution_count": 10,
   "id": "11863d2c",
   "metadata": {},
   "outputs": [
    {
     "name": "stdout",
     "output_type": "stream",
     "text": [
      "89 Is Largest Number\n"
     ]
    }
   ],
   "source": [
    "if(a>b):      # In if condition will be check \n",
    "  print(a,\"Is Largest Number\")\n",
    "else:\n",
    "  print(b,\"Is Largest Number\")"
   ]
  }
 ],
 "metadata": {
  "kernelspec": {
   "display_name": "Python 3 (ipykernel)",
   "language": "python",
   "name": "python3"
  },
  "language_info": {
   "codemirror_mode": {
    "name": "ipython",
    "version": 3
   },
   "file_extension": ".py",
   "mimetype": "text/x-python",
   "name": "python",
   "nbconvert_exporter": "python",
   "pygments_lexer": "ipython3",
   "version": "3.11.4"
  }
 },
 "nbformat": 4,
 "nbformat_minor": 5
}
